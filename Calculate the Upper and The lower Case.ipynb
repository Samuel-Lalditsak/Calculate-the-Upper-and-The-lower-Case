{
 "cells": [
  {
   "cell_type": "code",
   "execution_count": 2,
   "metadata": {},
   "outputs": [
    {
     "name": "stdout",
     "output_type": "stream",
     "text": [
      "No. of Upper case characters : 3\n",
      "No. of Lower case characters : 12\n"
     ]
    }
   ],
   "source": [
    "def string_case_count(string):\n",
    "    upper_case_count = 0\n",
    "    lower_case_count = 0\n",
    "\n",
    "    for char in string:\n",
    "        if char.isupper():\n",
    "            upper_case_count += 1\n",
    "        elif char.islower():\n",
    "            lower_case_count += 1\n",
    "\n",
    "    return upper_case_count, lower_case_count\n",
    "\n",
    "sample_string = \"The quick Brow Fox\"\n",
    "\n",
    "upper_case_count, lower_case_count = string_case_count(sample_string)\n",
    "\n",
    "print(\"No. of Upper case characters :\", upper_case_count)\n",
    "print(\"No. of Lower case characters :\", lower_case_count)"
   ]
  }
 ],
 "metadata": {
  "interpreter": {
   "hash": "aee8b7b246df8f9039afb4144a1f6fd8d2ca17a180786b69acc140d282b71a49"
  },
  "kernelspec": {
   "display_name": "Python 3.11.4 64-bit",
   "language": "python",
   "name": "python3"
  },
  "language_info": {
   "codemirror_mode": {
    "name": "ipython",
    "version": 3
   },
   "file_extension": ".py",
   "mimetype": "text/x-python",
   "name": "python",
   "nbconvert_exporter": "python",
   "pygments_lexer": "ipython3",
   "version": "3.11.4"
  },
  "orig_nbformat": 4
 },
 "nbformat": 4,
 "nbformat_minor": 2
}
